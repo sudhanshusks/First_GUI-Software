{
 "cells": [
  {
   "cell_type": "code",
   "execution_count": 1,
   "metadata": {
    "collapsed": true
   },
   "outputs": [],
   "source": [
    "from PyQt5 import QtCore, QtGui, QtWidgets\n",
    "import sys"
   ]
  },
  {
   "cell_type": "code",
   "execution_count": 2,
   "metadata": {
    "collapsed": true
   },
   "outputs": [],
   "source": [
    "class Ui_MainWindow(object):\n",
    "    def setupUi(self, MainWindow):\n",
    "        MainWindow.setObjectName(\"MainWindow\")\n",
    "        MainWindow.resize(415, 351)\n",
    "        MainWindow.setFixedSize(415, 351)\n",
    "        \n",
    "        label = QtWidgets.QLabel(self)\n",
    "        pixmap = QtGui.QPixmap('image.jpeg')\n",
    "        label.setPixmap(pixmap)\n",
    "        # Optional, resize window to image size\n",
    "        self.resize(pixmap.width(),pixmap.height())\n",
    "        \n",
    "        self.centralwidget = QtWidgets.QWidget(MainWindow)\n",
    "        self.centralwidget.setObjectName(\"centralwidget\")\n",
    "        self.lineEdit = QtWidgets.QLineEdit(self.centralwidget)\n",
    "        self.lineEdit.setGeometry(QtCore.QRect(180, 20, 151, 31))\n",
    "        self.lineEdit.setObjectName(\"lineEdit\")\n",
    "        self.lineEdit_2 = QtWidgets.QLineEdit(self.centralwidget)\n",
    "        self.lineEdit_2.setGeometry(QtCore.QRect(180, 70, 151, 31))\n",
    "        self.lineEdit_2.setObjectName(\"lineEdit_2\")\n",
    "        self.label = QtWidgets.QLabel(self.centralwidget)\n",
    "        self.label.setGeometry(QtCore.QRect(48, 30, 91, 21))\n",
    "        font = QtGui.QFont()\n",
    "        font.setPointSize(12)\n",
    "        font.setBold(True)\n",
    "        font.setWeight(75)\n",
    "        self.label.setFont(font)\n",
    "        self.label.setObjectName(\"label\")\n",
    "        self.label_2 = QtWidgets.QLabel(self.centralwidget)\n",
    "        self.label_2.setGeometry(QtCore.QRect(48, 80, 111, 21))\n",
    "        font = QtGui.QFont()\n",
    "        font.setPointSize(12)\n",
    "        font.setBold(True)\n",
    "        font.setWeight(75)\n",
    "        self.label_2.setFont(font)\n",
    "        self.label_2.setObjectName(\"label_2\")\n",
    "        self.label_3 = QtWidgets.QLabel(self.centralwidget)\n",
    "        self.label_3.setGeometry(QtCore.QRect(48, 130, 121, 21))\n",
    "        font = QtGui.QFont()\n",
    "        font.setPointSize(12)\n",
    "        font.setBold(True)\n",
    "        font.setWeight(75)\n",
    "        self.label_3.setFont(font)\n",
    "        self.label_3.setObjectName(\"label_3\")\n",
    "        self.lineEdit_3 = QtWidgets.QLineEdit(self.centralwidget)\n",
    "        self.lineEdit_3.setGeometry(QtCore.QRect(180, 120, 151, 31))\n",
    "        self.lineEdit_3.setObjectName(\"lineEdit_3\")\n",
    "        self.pushButton = QtWidgets.QPushButton(self.centralwidget)\n",
    "        self.pushButton.setGeometry(QtCore.QRect(160, 180, 91, 31))\n",
    "        font = QtGui.QFont()\n",
    "        font.setPointSize(12)\n",
    "        font.setBold(True)\n",
    "        font.setWeight(75)\n",
    "        self.pushButton.setFont(font)\n",
    "        self.pushButton.setObjectName(\"pushButton\")\n",
    "        self.label_4 = QtWidgets.QLabel(self.centralwidget)\n",
    "        self.label_4.setGeometry(QtCore.QRect(60, 230, 301, 31))\n",
    "        font = QtGui.QFont()\n",
    "        font.setPointSize(12)\n",
    "        font.setBold(True)\n",
    "        font.setWeight(75)\n",
    "        self.label_4.setFont(font)\n",
    "        self.label_4.setObjectName(\"label_4\")\n",
    "        self.label_5 = QtWidgets.QLabel(self.centralwidget)\n",
    "        self.label_5.setGeometry(QtCore.QRect(60, 270, 311, 31))\n",
    "        font = QtGui.QFont()\n",
    "        font.setPointSize(12)\n",
    "        font.setBold(True)\n",
    "        font.setWeight(75)\n",
    "        self.label_5.setFont(font)\n",
    "        self.label_5.setObjectName(\"label_5\")\n",
    "        MainWindow.setCentralWidget(self.centralwidget)\n",
    "        self.menubar = QtWidgets.QMenuBar(MainWindow)\n",
    "        self.menubar.setGeometry(QtCore.QRect(0, 0, 415, 21))\n",
    "        self.menubar.setObjectName(\"menubar\")\n",
    "        MainWindow.setMenuBar(self.menubar)\n",
    "        self.statusbar = QtWidgets.QStatusBar(MainWindow)\n",
    "        self.statusbar.setObjectName(\"statusbar\")\n",
    "        MainWindow.setStatusBar(self.statusbar)\n",
    "\n",
    "        self.retranslateUi(MainWindow)\n",
    "        QtCore.QMetaObject.connectSlotsByName(MainWindow)\n",
    "        ######\n",
    "        self.pushButton.clicked.connect(self.myFunction)\n",
    "        \n",
    "        app.aboutToQuit.connect(self.closeEvent)\n",
    "\n",
    "    def retranslateUi(self, MainWindow):\n",
    "        _translate = QtCore.QCoreApplication.translate\n",
    "        MainWindow.setWindowTitle(_translate(\"MainWindow\", \"Cosmic & Sapphire\"))\n",
    "        self.label.setText(_translate(\"MainWindow\", \"Total Cash\"))\n",
    "        self.label_2.setText(_translate(\"MainWindow\", \"Price Cosmic\"))\n",
    "        self.label_3.setText(_translate(\"MainWindow\", \"Price Sapphire\"))\n",
    "        self.pushButton.setText(_translate(\"MainWindow\", \"Calculate\"))\n",
    "        self.label_4.setText(_translate(\"MainWindow\", \"\"))\n",
    "        self.label_5.setText(_translate(\"MainWindow\", \"\"))\n",
    "\n",
    "    def myFunction(self):\n",
    "        total= int(self.lineEdit.text())\n",
    "        priceC= int(self.lineEdit_2.text())\n",
    "        priceS= int(self.lineEdit_3.text())\n",
    "        x= round(total/(priceC+ priceS))\n",
    "        strinC= \"Buy \"+str(x)+\" cosmic runes.\"\n",
    "        strinS= \"Buy \"+str(x)+\" sapphire rings.\"\n",
    "        self.label_4.setText(strinC)\n",
    "        self.label_5.setText(strinS)\n",
    "        \n",
    "    def closeEvent(self):\n",
    "        #Your desired functionality here\n",
    "        print('Close button pressed')\n",
    "        import sys\n",
    "        sys.exit(0)"
   ]
  },
  {
   "cell_type": "code",
   "execution_count": 3,
   "metadata": {},
   "outputs": [
    {
     "ename": "TypeError",
     "evalue": "arguments did not match any overloaded call:\n  QLabel(parent: QWidget = None, flags: Union[Qt.WindowFlags, Qt.WindowType] = Qt.WindowFlags()): argument 1 has unexpected type 'Ui_MainWindow'\n  QLabel(str, parent: QWidget = None, flags: Union[Qt.WindowFlags, Qt.WindowType] = Qt.WindowFlags()): argument 1 has unexpected type 'Ui_MainWindow'",
     "output_type": "error",
     "traceback": [
      "\u001b[1;31m---------------------------------------------------------------------------\u001b[0m",
      "\u001b[1;31mTypeError\u001b[0m                                 Traceback (most recent call last)",
      "\u001b[1;32m<ipython-input-3-6750407e8cdd>\u001b[0m in \u001b[0;36m<module>\u001b[1;34m()\u001b[0m\n\u001b[0;32m      3\u001b[0m     \u001b[0mMainWindow\u001b[0m \u001b[1;33m=\u001b[0m \u001b[0mQtWidgets\u001b[0m\u001b[1;33m.\u001b[0m\u001b[0mQMainWindow\u001b[0m\u001b[1;33m(\u001b[0m\u001b[1;33m)\u001b[0m\u001b[1;33m\u001b[0m\u001b[0m\n\u001b[0;32m      4\u001b[0m     \u001b[0mui\u001b[0m \u001b[1;33m=\u001b[0m \u001b[0mUi_MainWindow\u001b[0m\u001b[1;33m(\u001b[0m\u001b[1;33m)\u001b[0m\u001b[1;33m\u001b[0m\u001b[0m\n\u001b[1;32m----> 5\u001b[1;33m     \u001b[0mui\u001b[0m\u001b[1;33m.\u001b[0m\u001b[0msetupUi\u001b[0m\u001b[1;33m(\u001b[0m\u001b[0mMainWindow\u001b[0m\u001b[1;33m)\u001b[0m\u001b[1;33m\u001b[0m\u001b[0m\n\u001b[0m\u001b[0;32m      6\u001b[0m     \u001b[0mMainWindow\u001b[0m\u001b[1;33m.\u001b[0m\u001b[0mshow\u001b[0m\u001b[1;33m(\u001b[0m\u001b[1;33m)\u001b[0m\u001b[1;33m\u001b[0m\u001b[0m\n\u001b[0;32m      7\u001b[0m     \u001b[0msys\u001b[0m\u001b[1;33m.\u001b[0m\u001b[0mexit\u001b[0m\u001b[1;33m(\u001b[0m\u001b[0mapp\u001b[0m\u001b[1;33m.\u001b[0m\u001b[0mexec_\u001b[0m\u001b[1;33m(\u001b[0m\u001b[1;33m)\u001b[0m\u001b[1;33m)\u001b[0m\u001b[1;33m\u001b[0m\u001b[0m\n",
      "\u001b[1;32m<ipython-input-2-f9135487d73f>\u001b[0m in \u001b[0;36msetupUi\u001b[1;34m(self, MainWindow)\u001b[0m\n\u001b[0;32m      5\u001b[0m         \u001b[0mMainWindow\u001b[0m\u001b[1;33m.\u001b[0m\u001b[0msetFixedSize\u001b[0m\u001b[1;33m(\u001b[0m\u001b[1;36m415\u001b[0m\u001b[1;33m,\u001b[0m \u001b[1;36m351\u001b[0m\u001b[1;33m)\u001b[0m\u001b[1;33m\u001b[0m\u001b[0m\n\u001b[0;32m      6\u001b[0m \u001b[1;33m\u001b[0m\u001b[0m\n\u001b[1;32m----> 7\u001b[1;33m         \u001b[0mlabel\u001b[0m \u001b[1;33m=\u001b[0m \u001b[0mQtWidgets\u001b[0m\u001b[1;33m.\u001b[0m\u001b[0mQLabel\u001b[0m\u001b[1;33m(\u001b[0m\u001b[0mself\u001b[0m\u001b[1;33m)\u001b[0m\u001b[1;33m\u001b[0m\u001b[0m\n\u001b[0m\u001b[0;32m      8\u001b[0m         \u001b[0mpixmap\u001b[0m \u001b[1;33m=\u001b[0m \u001b[0mQtGui\u001b[0m\u001b[1;33m.\u001b[0m\u001b[0mQPixmap\u001b[0m\u001b[1;33m(\u001b[0m\u001b[1;34m'image.jpeg'\u001b[0m\u001b[1;33m)\u001b[0m\u001b[1;33m\u001b[0m\u001b[0m\n\u001b[0;32m      9\u001b[0m         \u001b[0mlabel\u001b[0m\u001b[1;33m.\u001b[0m\u001b[0msetPixmap\u001b[0m\u001b[1;33m(\u001b[0m\u001b[0mpixmap\u001b[0m\u001b[1;33m)\u001b[0m\u001b[1;33m\u001b[0m\u001b[0m\n",
      "\u001b[1;31mTypeError\u001b[0m: arguments did not match any overloaded call:\n  QLabel(parent: QWidget = None, flags: Union[Qt.WindowFlags, Qt.WindowType] = Qt.WindowFlags()): argument 1 has unexpected type 'Ui_MainWindow'\n  QLabel(str, parent: QWidget = None, flags: Union[Qt.WindowFlags, Qt.WindowType] = Qt.WindowFlags()): argument 1 has unexpected type 'Ui_MainWindow'"
     ]
    }
   ],
   "source": [
    "if __name__ == \"__main__\":\n",
    "    app = QtWidgets.QApplication(sys.argv)\n",
    "    MainWindow = QtWidgets.QMainWindow()\n",
    "    ui = Ui_MainWindow()\n",
    "    ui.setupUi(MainWindow)\n",
    "    MainWindow.show()\n",
    "    sys.exit(app.exec_())\n",
    "    exit()"
   ]
  },
  {
   "cell_type": "code",
   "execution_count": null,
   "metadata": {
    "collapsed": true
   },
   "outputs": [],
   "source": []
  }
 ],
 "metadata": {
  "kernelspec": {
   "display_name": "Python 3",
   "language": "python",
   "name": "python3"
  },
  "language_info": {
   "codemirror_mode": {
    "name": "ipython",
    "version": 3
   },
   "file_extension": ".py",
   "mimetype": "text/x-python",
   "name": "python",
   "nbconvert_exporter": "python",
   "pygments_lexer": "ipython3",
   "version": "3.6.3"
  }
 },
 "nbformat": 4,
 "nbformat_minor": 2
}
